{
 "cells": [
  {
   "cell_type": "code",
   "execution_count": 0,
   "metadata": {
    "application/vnd.databricks.v1+cell": {
     "cellMetadata": {
      "byteLimit": 2048000,
      "rowLimit": 10000
     },
     "inputWidgets": {},
     "nuid": "189d9ffd-b347-4cdf-905a-40b47aa466b6",
     "showTitle": false,
     "tableResultSettingsMap": {},
     "title": ""
    }
   },
   "outputs": [],
   "source": [
    "# !pip install -U spacy\n",
    "# !pip install -U spaCy"
   ]
  },
  {
   "cell_type": "code",
   "execution_count": 0,
   "metadata": {
    "application/vnd.databricks.v1+cell": {
     "cellMetadata": {
      "byteLimit": 2048000,
      "rowLimit": 10000
     },
     "inputWidgets": {},
     "nuid": "0e858541-d8c3-4b02-af17-d3f879c9cf1b",
     "showTitle": false,
     "tableResultSettingsMap": {},
     "title": ""
    }
   },
   "outputs": [],
   "source": [
    "# pip install en_core_web_sm"
   ]
  },
  {
   "cell_type": "code",
   "execution_count": 0,
   "metadata": {
    "application/vnd.databricks.v1+cell": {
     "cellMetadata": {
      "byteLimit": 2048000,
      "rowLimit": 10000
     },
     "inputWidgets": {},
     "nuid": "af179ee4-49dc-4e3d-b27f-6ffbafb1f396",
     "showTitle": false,
     "tableResultSettingsMap": {},
     "title": ""
    }
   },
   "outputs": [],
   "source": [
    "import en_core_web_sm\n",
    "nlp = en_core_web_sm.load()"
   ]
  },
  {
   "cell_type": "code",
   "execution_count": 0,
   "metadata": {
    "application/vnd.databricks.v1+cell": {
     "cellMetadata": {
      "byteLimit": 2048000,
      "rowLimit": 10000
     },
     "inputWidgets": {},
     "nuid": "130cd4c8-2059-44e8-a170-c49ac3a211fd",
     "showTitle": false,
     "tableResultSettingsMap": {},
     "title": ""
    }
   },
   "outputs": [
    {
     "output_type": "stream",
     "name": "stdout",
     "output_type": "stream",
     "text": [
      "Out[29]: ['Defaults',\n '__annotations__',\n '__call__',\n '__class__',\n '__delattr__',\n '__dict__',\n '__dir__',\n '__doc__',\n '__eq__',\n '__format__',\n '__ge__',\n '__getattribute__',\n '__gt__',\n '__hash__',\n '__init__',\n '__init_subclass__',\n '__le__',\n '__lt__',\n '__module__',\n '__ne__',\n '__new__',\n '__reduce__',\n '__reduce_ex__',\n '__repr__',\n '__setattr__',\n '__sizeof__',\n '__str__',\n '__subclasshook__',\n '__weakref__',\n '_components',\n '_config',\n '_disabled',\n '_ensure_doc',\n '_ensure_doc_with_context',\n '_factory_meta',\n '_get_pipe_index',\n '_has_gpu_model',\n '_link_components',\n '_meta',\n '_multiprocessing_pipe',\n '_optimizer',\n '_path',\n '_pipe_configs',\n '_pipe_meta',\n '_resolve_component_status',\n 'add_pipe',\n 'analyze_pipes',\n 'batch_size',\n 'begin_training',\n 'component',\n 'component_names',\n 'components',\n 'config',\n 'create_optimizer',\n 'create_pipe',\n 'create_pipe_from_source',\n 'default_config',\n 'default_error_handler',\n 'disable_pipe',\n 'disable_pipes',\n 'disabled',\n 'enable_pipe',\n 'evaluate',\n 'factories',\n 'factory',\n 'factory_names',\n 'from_bytes',\n 'from_config',\n 'from_disk',\n 'get_factory_meta',\n 'get_factory_name',\n 'get_pipe',\n 'get_pipe_config',\n 'get_pipe_meta',\n 'has_factory',\n 'has_pipe',\n 'initialize',\n 'lang',\n 'make_doc',\n 'max_length',\n 'memory_zone',\n 'meta',\n 'path',\n 'pipe',\n 'pipe_factories',\n 'pipe_labels',\n 'pipe_names',\n 'pipeline',\n 'rehearse',\n 'remove_pipe',\n 'rename_pipe',\n 'replace_listeners',\n 'replace_pipe',\n 'resume_training',\n 'select_pipes',\n 'set_error_handler',\n 'set_factory_meta',\n 'to_bytes',\n 'to_disk',\n 'tokenizer',\n 'update',\n 'use_params',\n 'vocab']"
     ]
    }
   ],
   "source": [
    "dir(nlp)"
   ]
  },
  {
   "cell_type": "code",
   "execution_count": 0,
   "metadata": {
    "application/vnd.databricks.v1+cell": {
     "cellMetadata": {
      "byteLimit": 2048000,
      "rowLimit": 10000
     },
     "inputWidgets": {},
     "nuid": "72717c40-3cfd-4eec-93ef-3a39efe20d11",
     "showTitle": false,
     "tableResultSettingsMap": {},
     "title": ""
    }
   },
   "outputs": [],
   "source": [
    "text = (\"Konza (Konza Technopolis ) is a key flagship project of Kenya’s Vision 2030 economic development portfolio. Konza will be a world-class city, powered by a thriving information, communications and technology (ICT) sector, superior reliable infrastructure and business friendly governance systems. These are parcels designed for Research and Development Centres, Outsourcing campuses BPO/ITES,Innovation Parks,Technology business Incubation and Accelarion Parks,Business Continuity Centre and other investor driven Science Technology and Innovation facilities. This project entails the universities in Konza Technopolis which are envisioned as a special place where innovative groups develop and apply modern technology; as a place where higher education and industry come together, and a site of life-long learning. These include general and Affordable housing for people workingand living in Konza Technopolis and affordable housing for students. Opportunities also exist for mixed use commercial facilities such as office buildings and trading facilities. Konza will be a world-class smartcity, powered by a thriving and progressive ICT sector,superior reliable infrastructure and business friendly governance,policy and regulatory frameworks Eng. John Kipchumba Tanui PS, State Department for Information Communications Technology (ICT) and Digital Economy\")"
   ]
  },
  {
   "cell_type": "code",
   "execution_count": 0,
   "metadata": {
    "application/vnd.databricks.v1+cell": {
     "cellMetadata": {
      "byteLimit": 2048000,
      "rowLimit": 10000
     },
     "inputWidgets": {},
     "nuid": "ce70ca13-cc7d-48a6-b2ce-312151985175",
     "showTitle": false,
     "tableResultSettingsMap": {},
     "title": ""
    }
   },
   "outputs": [
    {
     "output_type": "stream",
     "name": "stdout",
     "output_type": "stream",
     "text": [
      "Out[31]: ['_',\n '__bytes__',\n '__class__',\n '__delattr__',\n '__dir__',\n '__doc__',\n '__eq__',\n '__format__',\n '__ge__',\n '__getattribute__',\n '__getitem__',\n '__gt__',\n '__hash__',\n '__init__',\n '__init_subclass__',\n '__iter__',\n '__le__',\n '__len__',\n '__lt__',\n '__ne__',\n '__new__',\n '__pyx_vtable__',\n '__reduce__',\n '__reduce_ex__',\n '__repr__',\n '__setattr__',\n '__setstate__',\n '__sizeof__',\n '__str__',\n '__subclasshook__',\n '__unicode__',\n '_bulk_merge',\n '_context',\n '_get_array_attrs',\n '_realloc',\n '_vector',\n '_vector_norm',\n 'cats',\n 'char_span',\n 'copy',\n 'count_by',\n 'doc',\n 'ents',\n 'extend_tensor',\n 'from_array',\n 'from_bytes',\n 'from_dict',\n 'from_disk',\n 'from_docs',\n 'from_json',\n 'get_extension',\n 'get_lca_matrix',\n 'has_annotation',\n 'has_extension',\n 'has_unknown_spaces',\n 'has_vector',\n 'is_nered',\n 'is_parsed',\n 'is_sentenced',\n 'is_tagged',\n 'lang',\n 'lang_',\n 'mem',\n 'noun_chunks',\n 'noun_chunks_iterator',\n 'remove_extension',\n 'retokenize',\n 'sentiment',\n 'sents',\n 'set_ents',\n 'set_extension',\n 'similarity',\n 'spans',\n 'tensor',\n 'text',\n 'text_with_ws',\n 'to_array',\n 'to_bytes',\n 'to_dict',\n 'to_disk',\n 'to_json',\n 'to_utf8_array',\n 'user_data',\n 'user_hooks',\n 'user_span_hooks',\n 'user_token_hooks',\n 'vector',\n 'vector_norm',\n 'vocab']"
     ]
    }
   ],
   "source": [
    "doc = nlp(text)\n",
    "dir(doc)"
   ]
  },
  {
   "cell_type": "code",
   "execution_count": 0,
   "metadata": {
    "application/vnd.databricks.v1+cell": {
     "cellMetadata": {
      "byteLimit": 2048000,
      "rowLimit": 10000
     },
     "inputWidgets": {},
     "nuid": "940c0a2d-7cd1-4b36-b47f-1f0288a56444",
     "showTitle": false,
     "tableResultSettingsMap": {},
     "title": ""
    }
   },
   "outputs": [
    {
     "output_type": "stream",
     "name": "stdout",
     "output_type": "stream",
     "text": [
      "Konza PERSON\nKonza Technopolis PERSON\nKenya GPE\nKonza PERSON\nICT ORG\nResearch and Development Centres ORG\nOutsourcing ORG\nBPO/ITES ORG\nInnovation Parks PERSON\nAccelarion Parks PERSON\nBusiness Continuity Centre ORG\nScience Technology and Innovation ORG\nKonza Technopolis NORP\nKonza Technopolis PERSON\nKonza ORG\nICT ORG\nJohn Kipchumba Tanui PS PERSON\nState Department for Information Communications Technology ORG\nICT ORG\nDigital Economy ORG\n"
     ]
    }
   ],
   "source": [
    "for ent in doc.ents:\n",
    "    print(ent,ent.label_)"
   ]
  },
  {
   "cell_type": "code",
   "execution_count": 0,
   "metadata": {
    "application/vnd.databricks.v1+cell": {
     "cellMetadata": {
      "byteLimit": 2048000,
      "rowLimit": 10000
     },
     "inputWidgets": {},
     "nuid": "159e5de1-f7a9-4139-8726-f8071af65e86",
     "showTitle": false,
     "tableResultSettingsMap": {},
     "title": ""
    }
   },
   "outputs": [
    {
     "output_type": "stream",
     "name": "stdout",
     "output_type": "stream",
     "text": [
      "Konza NP\nKonza Technopolis NP\na key flagship project NP\nKenya’s Vision 2030 economic development portfolio NP\nKonza NP\na world-class city NP\na thriving information NP\ncommunications NP\ntechnology NP\nICT) sector NP\nsuperior reliable infrastructure NP\nbusiness friendly governance systems NP\nThese NP\nparcels NP\nResearch and Development Centres NP\nOutsourcing campuses NP\nBPO/ITES NP\nInnovation Parks NP\nTechnology business Incubation NP\nAccelarion Parks NP\nBusiness Continuity Centre NP\nother investor NP\nScience Technology and Innovation facilities NP\nThis project NP\nthe universities NP\nKonza Technopolis NP\nwhich NP\na special place NP\ninnovative groups NP\nmodern technology NP\na place NP\nhigher education NP\nindustry NP\nlife-long learning NP\nThese NP\ngeneral and Affordable housing NP\npeople NP\nKonza Technopolis NP\naffordable housing NP\nstudents NP\nOpportunities NP\nmixed use commercial facilities NP\noffice buildings NP\ntrading facilities NP\nKonza NP\na world-class smartcity NP\na thriving and progressive ICT sector NP\nsuperior reliable infrastructure NP\nbusiness friendly governance NP\npolicy NP\nregulatory frameworks NP\nEng NP\nJohn Kipchumba Tanui PS NP\nState Department NP\nInformation Communications Technology NP\nICT NP\nDigital Economy NP\n"
     ]
    }
   ],
   "source": [
    "for nouns in doc.noun_chunks:\n",
    "    print(nouns, nouns.label_)"
   ]
  },
  {
   "cell_type": "code",
   "execution_count": 0,
   "metadata": {
    "application/vnd.databricks.v1+cell": {
     "cellMetadata": {
      "byteLimit": 2048000,
      "rowLimit": 10000
     },
     "inputWidgets": {},
     "nuid": "42404bb0-2940-4f4d-8aad-1ceb01c61815",
     "showTitle": false,
     "tableResultSettingsMap": {},
     "title": ""
    }
   },
   "outputs": [
    {
     "output_type": "stream",
     "name": "stdout",
     "output_type": "stream",
     "text": [
      "Konza\nKonza Technopolis\na key flagship project\nKenya’s Vision 2030 economic development portfolio\nKonza\na world-class city\na thriving information\ncommunications\ntechnology\nICT) sector\nsuperior reliable infrastructure\nbusiness friendly governance systems\nThese\nparcels\nResearch and Development Centres\nOutsourcing campuses\nBPO/ITES\nInnovation Parks\nTechnology business Incubation\nAccelarion Parks\nBusiness Continuity Centre\nother investor\nScience Technology and Innovation facilities\nThis project\nthe universities\nKonza Technopolis\nwhich\na special place\ninnovative groups\nmodern technology\na place\nhigher education\nindustry\nlife-long learning\nThese\ngeneral and Affordable housing\npeople\nKonza Technopolis\naffordable housing\nstudents\nOpportunities\nmixed use commercial facilities\noffice buildings\ntrading facilities\nKonza\na world-class smartcity\na thriving and progressive ICT sector\nsuperior reliable infrastructure\nbusiness friendly governance\npolicy\nregulatory frameworks\nEng\nJohn Kipchumba Tanui PS\nState Department\nInformation Communications Technology\nICT\nDigital Economy\n"
     ]
    }
   ],
   "source": [
    "for sent in doc.noun_chunks:\n",
    "    print(sent.text)"
   ]
  },
  {
   "cell_type": "code",
   "execution_count": 0,
   "metadata": {
    "application/vnd.databricks.v1+cell": {
     "cellMetadata": {
      "byteLimit": 2048000,
      "rowLimit": 10000
     },
     "inputWidgets": {},
     "nuid": "e716986a-4a44-4d65-893c-21998a055b82",
     "showTitle": false,
     "tableResultSettingsMap": {},
     "title": ""
    }
   },
   "outputs": [
    {
     "output_type": "stream",
     "name": "stdout",
     "output_type": "stream",
     "text": [
      "Noun phrases: ['Konza', 'Konza Technopolis', 'a key flagship project', 'Kenya’s Vision 2030 economic development portfolio', 'Konza', 'a world-class city', 'a thriving information', 'communications', 'technology', 'ICT) sector', 'superior reliable infrastructure', 'business friendly governance systems', 'These', 'parcels', 'Research and Development Centres', 'Outsourcing campuses', 'BPO/ITES', 'Innovation Parks', 'Technology business Incubation', 'Accelarion Parks', 'Business Continuity Centre', 'other investor', 'Science Technology and Innovation facilities', 'This project', 'the universities', 'Konza Technopolis', 'which', 'a special place', 'innovative groups', 'modern technology', 'a place', 'higher education', 'industry', 'life-long learning', 'These', 'general and Affordable housing', 'people', 'Konza Technopolis', 'affordable housing', 'students', 'Opportunities', 'mixed use commercial facilities', 'office buildings', 'trading facilities', 'Konza', 'a world-class smartcity', 'a thriving and progressive ICT sector', 'superior reliable infrastructure', 'business friendly governance', 'policy', 'regulatory frameworks', 'Eng', 'John Kipchumba Tanui PS', 'State Department', 'Information Communications Technology', 'ICT', 'Digital Economy']\n"
     ]
    }
   ],
   "source": [
    "print(\"Noun phrases:\", [chunk.text for chunk in doc.noun_chunks])\n"
   ]
  },
  {
   "cell_type": "code",
   "execution_count": 0,
   "metadata": {
    "application/vnd.databricks.v1+cell": {
     "cellMetadata": {
      "byteLimit": 2048000,
      "rowLimit": 10000
     },
     "inputWidgets": {},
     "nuid": "f8b1cb74-d4d0-4d8f-89f4-93f9b171377f",
     "showTitle": false,
     "tableResultSettingsMap": {},
     "title": ""
    }
   },
   "outputs": [
    {
     "output_type": "stream",
     "name": "stdout",
     "output_type": "stream",
     "text": [
      "Verbs: ['power', 'design', 'drive', 'entail', 'envision', 'develop', 'apply', 'come', 'include', 'live', 'exist', 'power']\n"
     ]
    }
   ],
   "source": [
    "print(\"Verbs:\", [token.lemma_ for token in doc if token.pos_ == \"VERB\"])"
   ]
  }
 ],
 "metadata": {
  "application/vnd.databricks.v1+notebook": {
   "computePreferences": null,
   "dashboards": [],
   "environmentMetadata": null,
   "language": "python",
   "notebookMetadata": {
    "pythonIndentUnit": 4
   },
   "notebookName": "spacy",
   "widgets": {}
  }
 },
 "nbformat": 4,
 "nbformat_minor": 0
}
